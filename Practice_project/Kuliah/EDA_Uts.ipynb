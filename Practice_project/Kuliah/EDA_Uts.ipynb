{
 "cells": [
  {
   "cell_type": "markdown",
   "id": "e3f384dd-a139-4080-bd96-4460c912b36e",
   "metadata": {},
   "source": [
    "# EDA : Explanatory Data Analysis"
   ]
  },
  {
   "cell_type": "code",
   "execution_count": 1,
   "id": "70d36be0-b29d-442b-93e2-379f61c54ed7",
   "metadata": {},
   "outputs": [],
   "source": [
    "# Importing Some Python Modules\n",
    "import warnings; warnings.simplefilter('ignore')\n",
    "import scipy, itertools, pandas as pd, matplotlib.pyplot as plt, seaborn as sns, numpy as np\n",
    "from scipy import stats\n",
    "from sklearn.preprocessing import StandardScaler, MinMaxScaler\n",
    "\n",
    "plt.style.use('bmh'); sns.set()"
   ]
  },
  {
   "cell_type": "code",
   "execution_count": 2,
   "id": "fa74f313-5c2f-431a-aabb-d334a40fc3e8",
   "metadata": {},
   "outputs": [],
   "source": [
    "price = pd.read_csv('price.csv')"
   ]
  },
  {
   "cell_type": "code",
   "execution_count": 3,
   "id": "b87fbb35-12ae-4d99-aabf-48e034158adf",
   "metadata": {},
   "outputs": [
    {
     "name": "stdout",
     "output_type": "stream",
     "text": [
      "<class 'pandas.core.frame.DataFrame'>\n"
     ]
    },
    {
     "data": {
      "text/plain": [
       "('baris = ', 936, ', Kolom = ', 10)"
      ]
     },
     "execution_count": 3,
     "metadata": {},
     "output_type": "execute_result"
    }
   ],
   "source": [
    "# Tipe Datanya : DataFrame (df)\n",
    "print(type(price))\n",
    "# Ukuran Data\n",
    "N, P = price.shape\n",
    "'baris = ', N, ', Kolom = ', P"
   ]
  },
  {
   "cell_type": "code",
   "execution_count": 4,
   "id": "84add371-fc2d-44b1-9f02-ef22021efe77",
   "metadata": {},
   "outputs": [
    {
     "data": {
      "text/html": [
       "<div>\n",
       "<style scoped>\n",
       "    .dataframe tbody tr th:only-of-type {\n",
       "        vertical-align: middle;\n",
       "    }\n",
       "\n",
       "    .dataframe tbody tr th {\n",
       "        vertical-align: top;\n",
       "    }\n",
       "\n",
       "    .dataframe thead th {\n",
       "        text-align: right;\n",
       "    }\n",
       "</style>\n",
       "<table border=\"1\" class=\"dataframe\">\n",
       "  <thead>\n",
       "    <tr style=\"text-align: right;\">\n",
       "      <th></th>\n",
       "      <th>Observation</th>\n",
       "      <th>Dist_Taxi</th>\n",
       "      <th>Dist_Market</th>\n",
       "      <th>Dist_Hospital</th>\n",
       "      <th>Carpet</th>\n",
       "      <th>Builtup</th>\n",
       "      <th>Parking</th>\n",
       "      <th>City_Category</th>\n",
       "      <th>Rainfall</th>\n",
       "      <th>House_Price</th>\n",
       "    </tr>\n",
       "  </thead>\n",
       "  <tbody>\n",
       "    <tr>\n",
       "      <th>0</th>\n",
       "      <td>1</td>\n",
       "      <td>9796.0</td>\n",
       "      <td>5250.0</td>\n",
       "      <td>10703.0</td>\n",
       "      <td>1659.0</td>\n",
       "      <td>1961.0</td>\n",
       "      <td>Open</td>\n",
       "      <td>CAT B</td>\n",
       "      <td>530</td>\n",
       "      <td>6649000</td>\n",
       "    </tr>\n",
       "    <tr>\n",
       "      <th>1</th>\n",
       "      <td>2</td>\n",
       "      <td>8294.0</td>\n",
       "      <td>8186.0</td>\n",
       "      <td>12694.0</td>\n",
       "      <td>1461.0</td>\n",
       "      <td>1752.0</td>\n",
       "      <td>Not Provided</td>\n",
       "      <td>CAT B</td>\n",
       "      <td>210</td>\n",
       "      <td>3982000</td>\n",
       "    </tr>\n",
       "    <tr>\n",
       "      <th>2</th>\n",
       "      <td>3</td>\n",
       "      <td>11001.0</td>\n",
       "      <td>14399.0</td>\n",
       "      <td>16991.0</td>\n",
       "      <td>1340.0</td>\n",
       "      <td>1609.0</td>\n",
       "      <td>Not Provided</td>\n",
       "      <td>CAT A</td>\n",
       "      <td>720</td>\n",
       "      <td>5401000</td>\n",
       "    </tr>\n",
       "    <tr>\n",
       "      <th>3</th>\n",
       "      <td>4</td>\n",
       "      <td>8301.0</td>\n",
       "      <td>11188.0</td>\n",
       "      <td>12289.0</td>\n",
       "      <td>1451.0</td>\n",
       "      <td>1748.0</td>\n",
       "      <td>Covered</td>\n",
       "      <td>CAT B</td>\n",
       "      <td>620</td>\n",
       "      <td>5373000</td>\n",
       "    </tr>\n",
       "    <tr>\n",
       "      <th>4</th>\n",
       "      <td>5</td>\n",
       "      <td>10510.0</td>\n",
       "      <td>12629.0</td>\n",
       "      <td>13921.0</td>\n",
       "      <td>1770.0</td>\n",
       "      <td>2111.0</td>\n",
       "      <td>Not Provided</td>\n",
       "      <td>CAT B</td>\n",
       "      <td>450</td>\n",
       "      <td>4662000</td>\n",
       "    </tr>\n",
       "  </tbody>\n",
       "</table>\n",
       "</div>"
      ],
      "text/plain": [
       "   Observation  Dist_Taxi  Dist_Market  Dist_Hospital  Carpet  Builtup  \\\n",
       "0            1     9796.0       5250.0        10703.0  1659.0   1961.0   \n",
       "1            2     8294.0       8186.0        12694.0  1461.0   1752.0   \n",
       "2            3    11001.0      14399.0        16991.0  1340.0   1609.0   \n",
       "3            4     8301.0      11188.0        12289.0  1451.0   1748.0   \n",
       "4            5    10510.0      12629.0        13921.0  1770.0   2111.0   \n",
       "\n",
       "        Parking City_Category  Rainfall  House_Price  \n",
       "0          Open         CAT B       530      6649000  \n",
       "1  Not Provided         CAT B       210      3982000  \n",
       "2  Not Provided         CAT A       720      5401000  \n",
       "3       Covered         CAT B       620      5373000  \n",
       "4  Not Provided         CAT B       450      4662000  "
      ]
     },
     "execution_count": 4,
     "metadata": {},
     "output_type": "execute_result"
    }
   ],
   "source": [
    "price.head()"
   ]
  },
  {
   "cell_type": "code",
   "execution_count": 5,
   "id": "01f38c4a-9903-498f-ac40-a84cbdb37551",
   "metadata": {},
   "outputs": [
    {
     "data": {
      "text/html": [
       "<div>\n",
       "<style scoped>\n",
       "    .dataframe tbody tr th:only-of-type {\n",
       "        vertical-align: middle;\n",
       "    }\n",
       "\n",
       "    .dataframe tbody tr th {\n",
       "        vertical-align: top;\n",
       "    }\n",
       "\n",
       "    .dataframe thead th {\n",
       "        text-align: right;\n",
       "    }\n",
       "</style>\n",
       "<table border=\"1\" class=\"dataframe\">\n",
       "  <thead>\n",
       "    <tr style=\"text-align: right;\">\n",
       "      <th></th>\n",
       "      <th>Observation</th>\n",
       "      <th>Dist_Taxi</th>\n",
       "      <th>Dist_Market</th>\n",
       "      <th>Dist_Hospital</th>\n",
       "      <th>Carpet</th>\n",
       "      <th>Builtup</th>\n",
       "      <th>Parking</th>\n",
       "      <th>City_Category</th>\n",
       "      <th>Rainfall</th>\n",
       "      <th>House_Price</th>\n",
       "    </tr>\n",
       "  </thead>\n",
       "  <tbody>\n",
       "    <tr>\n",
       "      <th>931</th>\n",
       "      <td>932</td>\n",
       "      <td>9297.0</td>\n",
       "      <td>12537.0</td>\n",
       "      <td>14418.0</td>\n",
       "      <td>1174.0</td>\n",
       "      <td>1429.0</td>\n",
       "      <td>Covered</td>\n",
       "      <td>CAT C</td>\n",
       "      <td>1110</td>\n",
       "      <td>5434000</td>\n",
       "    </tr>\n",
       "    <tr>\n",
       "      <th>932</th>\n",
       "      <td>933</td>\n",
       "      <td>10915.0</td>\n",
       "      <td>17486.0</td>\n",
       "      <td>15964.0</td>\n",
       "      <td>1549.0</td>\n",
       "      <td>1851.0</td>\n",
       "      <td>Not Provided</td>\n",
       "      <td>CAT C</td>\n",
       "      <td>1220</td>\n",
       "      <td>7062000</td>\n",
       "    </tr>\n",
       "    <tr>\n",
       "      <th>933</th>\n",
       "      <td>934</td>\n",
       "      <td>9205.0</td>\n",
       "      <td>10418.0</td>\n",
       "      <td>14496.0</td>\n",
       "      <td>1118.0</td>\n",
       "      <td>1337.0</td>\n",
       "      <td>Open</td>\n",
       "      <td>CAT A</td>\n",
       "      <td>560</td>\n",
       "      <td>7227000</td>\n",
       "    </tr>\n",
       "    <tr>\n",
       "      <th>934</th>\n",
       "      <td>935</td>\n",
       "      <td>10915.0</td>\n",
       "      <td>17486.0</td>\n",
       "      <td>15964.0</td>\n",
       "      <td>1549.0</td>\n",
       "      <td>1851.0</td>\n",
       "      <td>Not Provided</td>\n",
       "      <td>CAT C</td>\n",
       "      <td>1220</td>\n",
       "      <td>7062000</td>\n",
       "    </tr>\n",
       "    <tr>\n",
       "      <th>935</th>\n",
       "      <td>936</td>\n",
       "      <td>10915.0</td>\n",
       "      <td>17486.0</td>\n",
       "      <td>15964.0</td>\n",
       "      <td>1549.0</td>\n",
       "      <td>1851.0</td>\n",
       "      <td>Not Provided</td>\n",
       "      <td>CAT C</td>\n",
       "      <td>1220</td>\n",
       "      <td>7062000</td>\n",
       "    </tr>\n",
       "  </tbody>\n",
       "</table>\n",
       "</div>"
      ],
      "text/plain": [
       "     Observation  Dist_Taxi  Dist_Market  Dist_Hospital  Carpet  Builtup  \\\n",
       "931          932     9297.0      12537.0        14418.0  1174.0   1429.0   \n",
       "932          933    10915.0      17486.0        15964.0  1549.0   1851.0   \n",
       "933          934     9205.0      10418.0        14496.0  1118.0   1337.0   \n",
       "934          935    10915.0      17486.0        15964.0  1549.0   1851.0   \n",
       "935          936    10915.0      17486.0        15964.0  1549.0   1851.0   \n",
       "\n",
       "          Parking City_Category  Rainfall  House_Price  \n",
       "931       Covered         CAT C      1110      5434000  \n",
       "932  Not Provided         CAT C      1220      7062000  \n",
       "933          Open         CAT A       560      7227000  \n",
       "934  Not Provided         CAT C      1220      7062000  \n",
       "935  Not Provided         CAT C      1220      7062000  "
      ]
     },
     "execution_count": 5,
     "metadata": {},
     "output_type": "execute_result"
    }
   ],
   "source": [
    "price.tail()"
   ]
  },
  {
   "cell_type": "code",
   "execution_count": 6,
   "id": "917e10f0-9bc1-4dfe-9210-e27d996fb7d1",
   "metadata": {},
   "outputs": [
    {
     "data": {
      "text/html": [
       "<div>\n",
       "<style scoped>\n",
       "    .dataframe tbody tr th:only-of-type {\n",
       "        vertical-align: middle;\n",
       "    }\n",
       "\n",
       "    .dataframe tbody tr th {\n",
       "        vertical-align: top;\n",
       "    }\n",
       "\n",
       "    .dataframe thead th {\n",
       "        text-align: right;\n",
       "    }\n",
       "</style>\n",
       "<table border=\"1\" class=\"dataframe\">\n",
       "  <thead>\n",
       "    <tr style=\"text-align: right;\">\n",
       "      <th></th>\n",
       "      <th>Observation</th>\n",
       "      <th>Dist_Taxi</th>\n",
       "      <th>Dist_Market</th>\n",
       "      <th>Dist_Hospital</th>\n",
       "      <th>Carpet</th>\n",
       "      <th>Builtup</th>\n",
       "      <th>Parking</th>\n",
       "      <th>City_Category</th>\n",
       "      <th>Rainfall</th>\n",
       "      <th>House_Price</th>\n",
       "    </tr>\n",
       "  </thead>\n",
       "  <tbody>\n",
       "    <tr>\n",
       "      <th>583</th>\n",
       "      <td>584</td>\n",
       "      <td>6736.0</td>\n",
       "      <td>14813.0</td>\n",
       "      <td>14125.0</td>\n",
       "      <td>1723.0</td>\n",
       "      <td>2072.0</td>\n",
       "      <td>Covered</td>\n",
       "      <td>CAT A</td>\n",
       "      <td>560</td>\n",
       "      <td>8841000</td>\n",
       "    </tr>\n",
       "    <tr>\n",
       "      <th>477</th>\n",
       "      <td>478</td>\n",
       "      <td>8799.0</td>\n",
       "      <td>10559.0</td>\n",
       "      <td>14496.0</td>\n",
       "      <td>1455.0</td>\n",
       "      <td>1757.0</td>\n",
       "      <td>No Parking</td>\n",
       "      <td>CAT A</td>\n",
       "      <td>650</td>\n",
       "      <td>6752000</td>\n",
       "    </tr>\n",
       "    <tr>\n",
       "      <th>806</th>\n",
       "      <td>807</td>\n",
       "      <td>5076.0</td>\n",
       "      <td>12426.0</td>\n",
       "      <td>13916.0</td>\n",
       "      <td>1430.0</td>\n",
       "      <td>1704.0</td>\n",
       "      <td>Not Provided</td>\n",
       "      <td>CAT C</td>\n",
       "      <td>1070</td>\n",
       "      <td>4337000</td>\n",
       "    </tr>\n",
       "    <tr>\n",
       "      <th>496</th>\n",
       "      <td>497</td>\n",
       "      <td>12787.0</td>\n",
       "      <td>12142.0</td>\n",
       "      <td>15454.0</td>\n",
       "      <td>1430.0</td>\n",
       "      <td>1690.0</td>\n",
       "      <td>Open</td>\n",
       "      <td>CAT A</td>\n",
       "      <td>800</td>\n",
       "      <td>7895000</td>\n",
       "    </tr>\n",
       "    <tr>\n",
       "      <th>843</th>\n",
       "      <td>844</td>\n",
       "      <td>8826.0</td>\n",
       "      <td>7816.0</td>\n",
       "      <td>15012.0</td>\n",
       "      <td>994.0</td>\n",
       "      <td>1194.0</td>\n",
       "      <td>Open</td>\n",
       "      <td>CAT A</td>\n",
       "      <td>1090</td>\n",
       "      <td>8139000</td>\n",
       "    </tr>\n",
       "  </tbody>\n",
       "</table>\n",
       "</div>"
      ],
      "text/plain": [
       "     Observation  Dist_Taxi  Dist_Market  Dist_Hospital  Carpet  Builtup  \\\n",
       "583          584     6736.0      14813.0        14125.0  1723.0   2072.0   \n",
       "477          478     8799.0      10559.0        14496.0  1455.0   1757.0   \n",
       "806          807     5076.0      12426.0        13916.0  1430.0   1704.0   \n",
       "496          497    12787.0      12142.0        15454.0  1430.0   1690.0   \n",
       "843          844     8826.0       7816.0        15012.0   994.0   1194.0   \n",
       "\n",
       "          Parking City_Category  Rainfall  House_Price  \n",
       "583       Covered         CAT A       560      8841000  \n",
       "477    No Parking         CAT A       650      6752000  \n",
       "806  Not Provided         CAT C      1070      4337000  \n",
       "496          Open         CAT A       800      7895000  \n",
       "843          Open         CAT A      1090      8139000  "
      ]
     },
     "execution_count": 6,
     "metadata": {},
     "output_type": "execute_result"
    }
   ],
   "source": [
    "price.sample(5)"
   ]
  },
  {
   "cell_type": "code",
   "execution_count": 7,
   "id": "26ba8d06-40c6-41ed-ace4-15f1894ae44c",
   "metadata": {},
   "outputs": [
    {
     "data": {
      "text/plain": [
       "Index(['Observation', 'Dist_Taxi', 'Dist_Market', 'Dist_Hospital', 'Carpet',\n",
       "       'Builtup', 'Parking', 'City_Category', 'Rainfall', 'House_Price'],\n",
       "      dtype='object')"
      ]
     },
     "execution_count": 7,
     "metadata": {},
     "output_type": "execute_result"
    }
   ],
   "source": [
    "price.columns"
   ]
  },
  {
   "cell_type": "markdown",
   "id": "d77c278c-0968-449a-9d60-3502efb295f9",
   "metadata": {},
   "source": [
    "## Menghapus varabel/kolom/fitur"
   ]
  },
  {
   "cell_type": "code",
   "execution_count": 8,
   "id": "8c3ceb52-9d81-4136-9284-33d0c9eb8866",
   "metadata": {},
   "outputs": [],
   "source": [
    "# Drop kolom pertama karena tidak berguna (hanya index)\n",
    "price.drop(\"Observation\", axis=1, inplace=True)"
   ]
  },
  {
   "cell_type": "markdown",
   "id": "83eaec73-6b2f-451f-84d5-65b69eb496dc",
   "metadata": {},
   "source": [
    "## Mengoreksi tipe kolom/variabel"
   ]
  },
  {
   "cell_type": "code",
   "execution_count": 9,
   "id": "d95f17ca-1ca9-4964-a522-639b8aecfb24",
   "metadata": {},
   "outputs": [
    {
     "name": "stdout",
     "output_type": "stream",
     "text": [
      "<class 'pandas.core.frame.DataFrame'>\n",
      "RangeIndex: 936 entries, 0 to 935\n",
      "Data columns (total 9 columns):\n",
      " #   Column         Non-Null Count  Dtype  \n",
      "---  ------         --------------  -----  \n",
      " 0   Dist_Taxi      923 non-null    float64\n",
      " 1   Dist_Market    923 non-null    float64\n",
      " 2   Dist_Hospital  935 non-null    float64\n",
      " 3   Carpet         928 non-null    float64\n",
      " 4   Builtup        921 non-null    float64\n",
      " 5   Parking        936 non-null    object \n",
      " 6   City_Category  936 non-null    object \n",
      " 7   Rainfall       936 non-null    int64  \n",
      " 8   House_Price    936 non-null    int64  \n",
      "dtypes: float64(5), int64(2), object(2)\n",
      "memory usage: 65.9+ KB\n"
     ]
    }
   ],
   "source": [
    "price.info()\n",
    "#melihat tipe data setiap kolom"
   ]
  },
  {
   "cell_type": "code",
   "execution_count": 10,
   "id": "d15ca076-18bd-4350-b8f9-a3493515690a",
   "metadata": {},
   "outputs": [
    {
     "data": {
      "text/plain": [
       "Dist_Taxi        float64\n",
       "Dist_Market      float64\n",
       "Dist_Hospital    float64\n",
       "Carpet           float64\n",
       "Builtup          float64\n",
       "Parking           object\n",
       "City_Category     object\n",
       "Rainfall           int64\n",
       "House_Price        int64\n",
       "dtype: object"
      ]
     },
     "execution_count": 10,
     "metadata": {},
     "output_type": "execute_result"
    }
   ],
   "source": [
    "price.dtypes"
   ]
  },
  {
   "cell_type": "code",
   "execution_count": 11,
   "id": "dbb0e21c-9a01-4ef3-8928-89592bb2e259",
   "metadata": {},
   "outputs": [
    {
     "data": {
      "text/plain": [
       "Dist_Taxi         float64\n",
       "Dist_Market       float64\n",
       "Dist_Hospital     float64\n",
       "Carpet            float64\n",
       "Builtup           float64\n",
       "Parking          category\n",
       "City_Category    category\n",
       "Rainfall            int64\n",
       "House_Price         int64\n",
       "dtype: object"
      ]
     },
     "execution_count": 11,
     "metadata": {},
     "output_type": "execute_result"
    }
   ],
   "source": [
    "# mengubah tipe data object pada kolom 'Parking' & 'City_Category' menjadi tipe data category\n",
    "price['Parking'] = price['Parking'].astype('category')\n",
    "price['City_Category'] = price['City_Category'].astype('category')\n",
    "price.dtypes"
   ]
  },
  {
   "cell_type": "code",
   "execution_count": 12,
   "id": "582cacea-c397-499a-b9ed-b468fafc2bfa",
   "metadata": {},
   "outputs": [
    {
     "name": "stdout",
     "output_type": "stream",
     "text": [
      "(936, 9)\n"
     ]
    },
    {
     "data": {
      "text/plain": [
       "4"
      ]
     },
     "execution_count": 12,
     "metadata": {},
     "output_type": "execute_result"
    }
   ],
   "source": [
    "#mengecek apakah ada duplikat data?\n",
    "print(price.shape)\n",
    "price.duplicated().sum()"
   ]
  },
  {
   "cell_type": "code",
   "execution_count": 13,
   "id": "8880e256-592e-4f3b-bcb7-a63adef602ec",
   "metadata": {},
   "outputs": [
    {
     "name": "stdout",
     "output_type": "stream",
     "text": [
      "0\n",
      "(932, 9)\n"
     ]
    }
   ],
   "source": [
    "#menghapus entri yang memiliki data duplikat \n",
    "price.drop_duplicates(inplace=True)\n",
    "print(price.duplicated().sum()) # no more duplicates\n",
    "print(price.shape) # re-check by printing data size"
   ]
  },
  {
   "cell_type": "markdown",
   "id": "8a51cdd0-7fdf-4ddf-b261-16d5a24fcb05",
   "metadata": {},
   "source": [
    "## memilih beberapa kolom"
   ]
  },
  {
   "cell_type": "code",
   "execution_count": 14,
   "id": "2b294f84-5209-4fa8-8f37-eac86e8b9510",
   "metadata": {},
   "outputs": [
    {
     "data": {
      "text/html": [
       "<div>\n",
       "<style scoped>\n",
       "    .dataframe tbody tr th:only-of-type {\n",
       "        vertical-align: middle;\n",
       "    }\n",
       "\n",
       "    .dataframe tbody tr th {\n",
       "        vertical-align: top;\n",
       "    }\n",
       "\n",
       "    .dataframe thead th {\n",
       "        text-align: right;\n",
       "    }\n",
       "</style>\n",
       "<table border=\"1\" class=\"dataframe\">\n",
       "  <thead>\n",
       "    <tr style=\"text-align: right;\">\n",
       "      <th></th>\n",
       "      <th>Dist_Taxi</th>\n",
       "      <th>Dist_Market</th>\n",
       "      <th>Dist_Hospital</th>\n",
       "      <th>Carpet</th>\n",
       "      <th>Builtup</th>\n",
       "      <th>Rainfall</th>\n",
       "      <th>House_Price</th>\n",
       "    </tr>\n",
       "  </thead>\n",
       "  <tbody>\n",
       "    <tr>\n",
       "      <th>0</th>\n",
       "      <td>9796.0</td>\n",
       "      <td>5250.0</td>\n",
       "      <td>10703.0</td>\n",
       "      <td>1659.0</td>\n",
       "      <td>1961.0</td>\n",
       "      <td>530</td>\n",
       "      <td>6649000</td>\n",
       "    </tr>\n",
       "    <tr>\n",
       "      <th>1</th>\n",
       "      <td>8294.0</td>\n",
       "      <td>8186.0</td>\n",
       "      <td>12694.0</td>\n",
       "      <td>1461.0</td>\n",
       "      <td>1752.0</td>\n",
       "      <td>210</td>\n",
       "      <td>3982000</td>\n",
       "    </tr>\n",
       "    <tr>\n",
       "      <th>2</th>\n",
       "      <td>11001.0</td>\n",
       "      <td>14399.0</td>\n",
       "      <td>16991.0</td>\n",
       "      <td>1340.0</td>\n",
       "      <td>1609.0</td>\n",
       "      <td>720</td>\n",
       "      <td>5401000</td>\n",
       "    </tr>\n",
       "    <tr>\n",
       "      <th>3</th>\n",
       "      <td>8301.0</td>\n",
       "      <td>11188.0</td>\n",
       "      <td>12289.0</td>\n",
       "      <td>1451.0</td>\n",
       "      <td>1748.0</td>\n",
       "      <td>620</td>\n",
       "      <td>5373000</td>\n",
       "    </tr>\n",
       "    <tr>\n",
       "      <th>4</th>\n",
       "      <td>10510.0</td>\n",
       "      <td>12629.0</td>\n",
       "      <td>13921.0</td>\n",
       "      <td>1770.0</td>\n",
       "      <td>2111.0</td>\n",
       "      <td>450</td>\n",
       "      <td>4662000</td>\n",
       "    </tr>\n",
       "  </tbody>\n",
       "</table>\n",
       "</div>"
      ],
      "text/plain": [
       "   Dist_Taxi  Dist_Market  Dist_Hospital  Carpet  Builtup  Rainfall  \\\n",
       "0     9796.0       5250.0        10703.0  1659.0   1961.0       530   \n",
       "1     8294.0       8186.0        12694.0  1461.0   1752.0       210   \n",
       "2    11001.0      14399.0        16991.0  1340.0   1609.0       720   \n",
       "3     8301.0      11188.0        12289.0  1451.0   1748.0       620   \n",
       "4    10510.0      12629.0        13921.0  1770.0   2111.0       450   \n",
       "\n",
       "   House_Price  \n",
       "0      6649000  \n",
       "1      3982000  \n",
       "2      5401000  \n",
       "3      5373000  \n",
       "4      4662000  "
      ]
     },
     "execution_count": 14,
     "metadata": {},
     "output_type": "execute_result"
    }
   ],
   "source": [
    "# Memilih hanya variable dengan tipe tertentu\n",
    "price_num = price.select_dtypes(include = ['float64', 'int64'])\n",
    "price_num.head()"
   ]
  },
  {
   "cell_type": "code",
   "execution_count": 15,
   "id": "3ae4f02f-f681-47e0-834c-cedb951710f7",
   "metadata": {},
   "outputs": [
    {
     "data": {
      "text/html": [
       "<div>\n",
       "<style scoped>\n",
       "    .dataframe tbody tr th:only-of-type {\n",
       "        vertical-align: middle;\n",
       "    }\n",
       "\n",
       "    .dataframe tbody tr th {\n",
       "        vertical-align: top;\n",
       "    }\n",
       "\n",
       "    .dataframe thead th {\n",
       "        text-align: right;\n",
       "    }\n",
       "</style>\n",
       "<table border=\"1\" class=\"dataframe\">\n",
       "  <thead>\n",
       "    <tr style=\"text-align: right;\">\n",
       "      <th></th>\n",
       "      <th>Parking</th>\n",
       "      <th>City_Category</th>\n",
       "    </tr>\n",
       "  </thead>\n",
       "  <tbody>\n",
       "    <tr>\n",
       "      <th>0</th>\n",
       "      <td>Open</td>\n",
       "      <td>CAT B</td>\n",
       "    </tr>\n",
       "    <tr>\n",
       "      <th>1</th>\n",
       "      <td>Not Provided</td>\n",
       "      <td>CAT B</td>\n",
       "    </tr>\n",
       "    <tr>\n",
       "      <th>2</th>\n",
       "      <td>Not Provided</td>\n",
       "      <td>CAT A</td>\n",
       "    </tr>\n",
       "    <tr>\n",
       "      <th>3</th>\n",
       "      <td>Covered</td>\n",
       "      <td>CAT B</td>\n",
       "    </tr>\n",
       "    <tr>\n",
       "      <th>4</th>\n",
       "      <td>Not Provided</td>\n",
       "      <td>CAT B</td>\n",
       "    </tr>\n",
       "  </tbody>\n",
       "</table>\n",
       "</div>"
      ],
      "text/plain": [
       "        Parking City_Category\n",
       "0          Open         CAT B\n",
       "1  Not Provided         CAT B\n",
       "2  Not Provided         CAT A\n",
       "3       Covered         CAT B\n",
       "4  Not Provided         CAT B"
      ]
     },
     "execution_count": 15,
     "metadata": {},
     "output_type": "execute_result"
    }
   ],
   "source": [
    "# Memilih hanya variable dengan tipe tertentu\n",
    "price_cat = price.select_dtypes(include = ['category'])\n",
    "price_cat.head()"
   ]
  },
  {
   "cell_type": "markdown",
   "id": "7854970b-25d5-475f-a4d7-fe3a079306f9",
   "metadata": {},
   "source": [
    "## Dummy Variabel"
   ]
  },
  {
   "cell_type": "code",
   "execution_count": 16,
   "id": "2c367c8e-1785-42ef-b405-3d7cd33c98e7",
   "metadata": {},
   "outputs": [
    {
     "data": {
      "text/html": [
       "<div>\n",
       "<style scoped>\n",
       "    .dataframe tbody tr th:only-of-type {\n",
       "        vertical-align: middle;\n",
       "    }\n",
       "\n",
       "    .dataframe tbody tr th {\n",
       "        vertical-align: top;\n",
       "    }\n",
       "\n",
       "    .dataframe thead th {\n",
       "        text-align: right;\n",
       "    }\n",
       "</style>\n",
       "<table border=\"1\" class=\"dataframe\">\n",
       "  <thead>\n",
       "    <tr style=\"text-align: right;\">\n",
       "      <th></th>\n",
       "      <th>Park_Covered</th>\n",
       "      <th>Park_No Parking</th>\n",
       "      <th>Park_Not Provided</th>\n",
       "      <th>Park_Open</th>\n",
       "    </tr>\n",
       "  </thead>\n",
       "  <tbody>\n",
       "    <tr>\n",
       "      <th>0</th>\n",
       "      <td>False</td>\n",
       "      <td>False</td>\n",
       "      <td>False</td>\n",
       "      <td>True</td>\n",
       "    </tr>\n",
       "    <tr>\n",
       "      <th>1</th>\n",
       "      <td>False</td>\n",
       "      <td>False</td>\n",
       "      <td>True</td>\n",
       "      <td>False</td>\n",
       "    </tr>\n",
       "    <tr>\n",
       "      <th>2</th>\n",
       "      <td>False</td>\n",
       "      <td>False</td>\n",
       "      <td>True</td>\n",
       "      <td>False</td>\n",
       "    </tr>\n",
       "    <tr>\n",
       "      <th>3</th>\n",
       "      <td>True</td>\n",
       "      <td>False</td>\n",
       "      <td>False</td>\n",
       "      <td>False</td>\n",
       "    </tr>\n",
       "    <tr>\n",
       "      <th>4</th>\n",
       "      <td>False</td>\n",
       "      <td>False</td>\n",
       "      <td>True</td>\n",
       "      <td>False</td>\n",
       "    </tr>\n",
       "  </tbody>\n",
       "</table>\n",
       "</div>"
      ],
      "text/plain": [
       "   Park_Covered  Park_No Parking  Park_Not Provided  Park_Open\n",
       "0         False            False              False       True\n",
       "1         False            False               True      False\n",
       "2         False            False               True      False\n",
       "3          True            False              False      False\n",
       "4         False            False               True      False"
      ]
     },
     "execution_count": 16,
     "metadata": {},
     "output_type": "execute_result"
    }
   ],
   "source": [
    "df = pd.get_dummies(price['Parking'], prefix='Park')\n",
    "df.head()"
   ]
  },
  {
   "cell_type": "markdown",
   "id": "a588215c-269b-4c40-9fad-2a20c682960f",
   "metadata": {},
   "source": [
    "## Menggabungkan ke data awal"
   ]
  },
  {
   "cell_type": "code",
   "execution_count": 17,
   "id": "20bb0d2b-ecbb-4935-8ad3-e1b4af07b64e",
   "metadata": {},
   "outputs": [
    {
     "data": {
      "text/html": [
       "<div>\n",
       "<style scoped>\n",
       "    .dataframe tbody tr th:only-of-type {\n",
       "        vertical-align: middle;\n",
       "    }\n",
       "\n",
       "    .dataframe tbody tr th {\n",
       "        vertical-align: top;\n",
       "    }\n",
       "\n",
       "    .dataframe thead th {\n",
       "        text-align: right;\n",
       "    }\n",
       "</style>\n",
       "<table border=\"1\" class=\"dataframe\">\n",
       "  <thead>\n",
       "    <tr style=\"text-align: right;\">\n",
       "      <th></th>\n",
       "      <th>0</th>\n",
       "      <th>1</th>\n",
       "      <th>2</th>\n",
       "      <th>3</th>\n",
       "      <th>4</th>\n",
       "    </tr>\n",
       "  </thead>\n",
       "  <tbody>\n",
       "    <tr>\n",
       "      <th>Dist_Taxi</th>\n",
       "      <td>9796.0</td>\n",
       "      <td>8294.0</td>\n",
       "      <td>11001.0</td>\n",
       "      <td>8301.0</td>\n",
       "      <td>10510.0</td>\n",
       "    </tr>\n",
       "    <tr>\n",
       "      <th>Dist_Market</th>\n",
       "      <td>5250.0</td>\n",
       "      <td>8186.0</td>\n",
       "      <td>14399.0</td>\n",
       "      <td>11188.0</td>\n",
       "      <td>12629.0</td>\n",
       "    </tr>\n",
       "    <tr>\n",
       "      <th>Dist_Hospital</th>\n",
       "      <td>10703.0</td>\n",
       "      <td>12694.0</td>\n",
       "      <td>16991.0</td>\n",
       "      <td>12289.0</td>\n",
       "      <td>13921.0</td>\n",
       "    </tr>\n",
       "    <tr>\n",
       "      <th>Carpet</th>\n",
       "      <td>1659.0</td>\n",
       "      <td>1461.0</td>\n",
       "      <td>1340.0</td>\n",
       "      <td>1451.0</td>\n",
       "      <td>1770.0</td>\n",
       "    </tr>\n",
       "    <tr>\n",
       "      <th>Builtup</th>\n",
       "      <td>1961.0</td>\n",
       "      <td>1752.0</td>\n",
       "      <td>1609.0</td>\n",
       "      <td>1748.0</td>\n",
       "      <td>2111.0</td>\n",
       "    </tr>\n",
       "    <tr>\n",
       "      <th>Parking</th>\n",
       "      <td>Open</td>\n",
       "      <td>Not Provided</td>\n",
       "      <td>Not Provided</td>\n",
       "      <td>Covered</td>\n",
       "      <td>Not Provided</td>\n",
       "    </tr>\n",
       "    <tr>\n",
       "      <th>City_Category</th>\n",
       "      <td>CAT B</td>\n",
       "      <td>CAT B</td>\n",
       "      <td>CAT A</td>\n",
       "      <td>CAT B</td>\n",
       "      <td>CAT B</td>\n",
       "    </tr>\n",
       "    <tr>\n",
       "      <th>Rainfall</th>\n",
       "      <td>530</td>\n",
       "      <td>210</td>\n",
       "      <td>720</td>\n",
       "      <td>620</td>\n",
       "      <td>450</td>\n",
       "    </tr>\n",
       "    <tr>\n",
       "      <th>House_Price</th>\n",
       "      <td>6649000</td>\n",
       "      <td>3982000</td>\n",
       "      <td>5401000</td>\n",
       "      <td>5373000</td>\n",
       "      <td>4662000</td>\n",
       "    </tr>\n",
       "    <tr>\n",
       "      <th>Park_Covered</th>\n",
       "      <td>False</td>\n",
       "      <td>False</td>\n",
       "      <td>False</td>\n",
       "      <td>True</td>\n",
       "      <td>False</td>\n",
       "    </tr>\n",
       "    <tr>\n",
       "      <th>Park_No Parking</th>\n",
       "      <td>False</td>\n",
       "      <td>False</td>\n",
       "      <td>False</td>\n",
       "      <td>False</td>\n",
       "      <td>False</td>\n",
       "    </tr>\n",
       "    <tr>\n",
       "      <th>Park_Not Provided</th>\n",
       "      <td>False</td>\n",
       "      <td>True</td>\n",
       "      <td>True</td>\n",
       "      <td>False</td>\n",
       "      <td>True</td>\n",
       "    </tr>\n",
       "    <tr>\n",
       "      <th>Park_Open</th>\n",
       "      <td>True</td>\n",
       "      <td>False</td>\n",
       "      <td>False</td>\n",
       "      <td>False</td>\n",
       "      <td>False</td>\n",
       "    </tr>\n",
       "  </tbody>\n",
       "</table>\n",
       "</div>"
      ],
      "text/plain": [
       "                         0             1             2        3             4\n",
       "Dist_Taxi           9796.0        8294.0       11001.0   8301.0       10510.0\n",
       "Dist_Market         5250.0        8186.0       14399.0  11188.0       12629.0\n",
       "Dist_Hospital      10703.0       12694.0       16991.0  12289.0       13921.0\n",
       "Carpet              1659.0        1461.0        1340.0   1451.0        1770.0\n",
       "Builtup             1961.0        1752.0        1609.0   1748.0        2111.0\n",
       "Parking               Open  Not Provided  Not Provided  Covered  Not Provided\n",
       "City_Category        CAT B         CAT B         CAT A    CAT B         CAT B\n",
       "Rainfall               530           210           720      620           450\n",
       "House_Price        6649000       3982000       5401000  5373000       4662000\n",
       "Park_Covered         False         False         False     True         False\n",
       "Park_No Parking      False         False         False    False         False\n",
       "Park_Not Provided    False          True          True    False          True\n",
       "Park_Open             True         False         False    False         False"
      ]
     },
     "execution_count": 17,
     "metadata": {},
     "output_type": "execute_result"
    }
   ],
   "source": [
    "df2 = pd.concat([price, df], axis = 1)\n",
    "df2.head().transpose()"
   ]
  },
  {
   "cell_type": "markdown",
   "id": "cf4f60ab-c497-47bd-b778-c4a49c1f8255",
   "metadata": {},
   "source": [
    "## Memilih data secara manual"
   ]
  },
  {
   "cell_type": "code",
   "execution_count": 18,
   "id": "f9dc43a5-6934-41d8-91d4-cb74075ed4f7",
   "metadata": {},
   "outputs": [
    {
     "data": {
      "text/html": [
       "<div>\n",
       "<style scoped>\n",
       "    .dataframe tbody tr th:only-of-type {\n",
       "        vertical-align: middle;\n",
       "    }\n",
       "\n",
       "    .dataframe tbody tr th {\n",
       "        vertical-align: top;\n",
       "    }\n",
       "\n",
       "    .dataframe thead th {\n",
       "        text-align: right;\n",
       "    }\n",
       "</style>\n",
       "<table border=\"1\" class=\"dataframe\">\n",
       "  <thead>\n",
       "    <tr style=\"text-align: right;\">\n",
       "      <th></th>\n",
       "      <th>House_Price</th>\n",
       "      <th>Dist_Market</th>\n",
       "    </tr>\n",
       "  </thead>\n",
       "  <tbody>\n",
       "    <tr>\n",
       "      <th>0</th>\n",
       "      <td>6649000</td>\n",
       "      <td>5250.0</td>\n",
       "    </tr>\n",
       "    <tr>\n",
       "      <th>1</th>\n",
       "      <td>3982000</td>\n",
       "      <td>8186.0</td>\n",
       "    </tr>\n",
       "    <tr>\n",
       "      <th>2</th>\n",
       "      <td>5401000</td>\n",
       "      <td>14399.0</td>\n",
       "    </tr>\n",
       "    <tr>\n",
       "      <th>3</th>\n",
       "      <td>5373000</td>\n",
       "      <td>11188.0</td>\n",
       "    </tr>\n",
       "    <tr>\n",
       "      <th>4</th>\n",
       "      <td>4662000</td>\n",
       "      <td>12629.0</td>\n",
       "    </tr>\n",
       "    <tr>\n",
       "      <th>5</th>\n",
       "      <td>4526000</td>\n",
       "      <td>5142.0</td>\n",
       "    </tr>\n",
       "    <tr>\n",
       "      <th>6</th>\n",
       "      <td>7224000</td>\n",
       "      <td>11869.0</td>\n",
       "    </tr>\n",
       "  </tbody>\n",
       "</table>\n",
       "</div>"
      ],
      "text/plain": [
       "   House_Price  Dist_Market\n",
       "0      6649000       5250.0\n",
       "1      3982000       8186.0\n",
       "2      5401000      14399.0\n",
       "3      5373000      11188.0\n",
       "4      4662000      12629.0\n",
       "5      4526000       5142.0\n",
       "6      7224000      11869.0"
      ]
     },
     "execution_count": 18,
     "metadata": {},
     "output_type": "execute_result"
    }
   ],
   "source": [
    "X = price[['House_Price','Dist_Market']] \n",
    "X[:7]"
   ]
  },
  {
   "cell_type": "markdown",
   "id": "8b9e41fc-77f3-4b39-87f9-0183cdc10948",
   "metadata": {},
   "source": [
    "## Visualisasi Data"
   ]
  },
  {
   "cell_type": "code",
   "execution_count": 19,
   "id": "6c43aad6-36b4-48a2-af21-a6ed9b1dace6",
   "metadata": {},
   "outputs": [
    {
     "data": {
      "image/png": "[encoded data removed]",
      "text/plain": [
       "<Figure size 500x500 with 1 Axes>"
      ]
     },
     "metadata": {},
     "output_type": "display_data"
    }
   ],
   "source": [
    "p= sns.catplot(x=\"Parking\", y=\"House_Price\", data=price)\n",
    "#menggunakan category plot"
   ]
  },
  {
   "cell_type": "code",
   "execution_count": 20,
   "id": "1bf55c89-8c6e-4aa2-823c-d08415f9dd87",
   "metadata": {},
   "outputs": [
    {
     "data": {
      "image/png": "[encoded data removed]",
      "text/plain": [
       "<Figure size 640x480 with 1 Axes>"
      ]
     },
     "metadata": {},
     "output_type": "display_data"
    }
   ],
   "source": [
    "p = sns.distplot(price['House_Price'], kde=True, rug=True)\n",
    "#menggunakan distribution plot"
   ]
  },
  {
   "cell_type": "markdown",
   "id": "4f40690c-05f0-4b74-819a-b81cd33f9c81",
   "metadata": {},
   "source": [
    "Dari visualisasi diatas didapat bahwa visualisasi dengan plot kategori dan plot distribusi tidak dapat bekerja karena terdapat outlier, Outliers dapat menyebabkan distorsi dalam analisis statistik dan visualisasi data jika tidak diidentifikasi dan dikelola dengan benar "
   ]
  },
  {
   "cell_type": "code",
   "execution_count": 21,
   "id": "e0b6b6e5-cbd8-4f20-8bbc-f42ddd1f1f12",
   "metadata": {},
   "outputs": [
    {
     "name": "stdout",
     "output_type": "stream",
     "text": [
      "(932,)\n"
     ]
    },
    {
     "data": {
      "text/plain": [
       "0    True\n",
       "1    True\n",
       "2    True\n",
       "3    True\n",
       "4    True\n",
       "Name: House_Price, dtype: bool"
      ]
     },
     "execution_count": 21,
     "metadata": {},
     "output_type": "execute_result"
    }
   ],
   "source": [
    "# Misal dengan asumsi data berdistribusi normal\n",
    "# dan menggunakan 95% confidence interval di sekitar variabel \"harga\"\n",
    "\n",
    "df = np.abs(price.House_Price - price.House_Price.mean())<=(2*price.House_Price.std())\n",
    "print(df.shape)\n",
    "df.head()"
   ]
  },
  {
   "cell_type": "markdown",
   "id": "478c26d2-c0bb-4cbd-b212-de5ec5c4ad55",
   "metadata": {},
   "source": [
    "hasil dari perhitungan diatas menghasilkan\n",
    "setiap baris akan berisi nilai boolean yang menunjukkan \n",
    "apakah nilai kolom House_Price pada baris tersebut masuk dalam kriteria tersebut \n",
    "atau tidak."
   ]
  },
  {
   "cell_type": "code",
   "execution_count": 22,
   "id": "409e4051-d2d5-41cc-880a-2dde9bd2a22f",
   "metadata": {},
   "outputs": [
    {
     "name": "stdout",
     "output_type": "stream",
     "text": [
      "(931, 9) (932, 9)\n"
     ]
    }
   ],
   "source": [
    "price2 = price[df] # Data tanpa outliers\n",
    "print(price2.shape, price.shape)\n",
    "# price = data dengan outlier\n",
    "# price2 = data dengan tidak ada outlier"
   ]
  },
  {
   "cell_type": "code",
   "execution_count": 23,
   "id": "cd2fafe0-3bd8-4e50-80b6-c0de79667599",
   "metadata": {},
   "outputs": [
    {
     "data": {
      "image/png": "[encoded data removed]",
      "text/plain": [
       "<Figure size 640x480 with 1 Axes>"
      ]
     },
     "metadata": {},
     "output_type": "display_data"
    }
   ],
   "source": [
    "p = sns.distplot(price2['House_Price'], kde=True, rug=True)\n"
   ]
  },
  {
   "cell_type": "markdown",
   "id": "582e54c1-6de4-44d4-b657-8dd989a217c2",
   "metadata": {},
   "source": [
    "Dari hasil visualisasi diatas menunjukkan sebagian besar\n",
    "harga rumah berada di kisaran 4 juta - 6 juta."
   ]
  },
  {
   "cell_type": "code",
   "execution_count": 24,
   "id": "d2e2fd97-4c0c-4558-b6a2-f0931af12268",
   "metadata": {},
   "outputs": [
    {
     "data": {
      "image/png": "[encoded data removed]",
      "text/plain": [
       "<Figure size 500x500 with 1 Axes>"
      ]
     },
     "metadata": {},
     "output_type": "display_data"
    }
   ],
   "source": [
    "p= sns.catplot(x=\"Parking\", y=\"House_Price\", data=price2)\n"
   ]
  },
  {
   "cell_type": "code",
   "execution_count": 42,
   "id": "03549c9a-51b8-4983-9285-fc2c237dc752",
   "metadata": {},
   "outputs": [
    {
     "data": {
      "image/png": "[encoded data removed]",
      "text/plain": [
       "<Figure size 640x480 with 1 Axes>"
      ]
     },
     "metadata": {},
     "output_type": "display_data"
    }
   ],
   "source": [
    "p= sns.barplot(x=\"Parking\", y=\"House_Price\", data=price2)\n"
   ]
  },
  {
   "cell_type": "markdown",
   "id": "fe897069-d5c1-4b6d-8ff1-c76c9ba2b87c",
   "metadata": {},
   "source": [
    "Dari hasil visualisasi diatas menunjukkan hubungan antara jenis tempat parkir dan harga rumah. Terlihat bahwa rumah dengan tempat parkir tertutup memiliki harga rata-rata yang lebih tinggi dibandingkan dengan jenis tempat parkir lainnya."
   ]
  },
  {
   "cell_type": "markdown",
   "id": "caf75144-df5b-4019-af68-44af081ec9e0",
   "metadata": {},
   "source": [
    "## Missing Value"
   ]
  },
  {
   "cell_type": "code",
   "execution_count": 25,
   "id": "96ef61e0-7f5e-499f-9211-6d406618931d",
   "metadata": {},
   "outputs": [
    {
     "name": "stdout",
     "output_type": "stream",
     "text": [
      "Dist_Taxi        13\n",
      "Dist_Market      13\n",
      "Dist_Hospital     1\n",
      "Carpet            8\n",
      "Builtup          15\n",
      "Parking           0\n",
      "City_Category     0\n",
      "Rainfall          0\n",
      "House_Price       0\n",
      "dtype: int64\n"
     ]
    }
   ],
   "source": [
    "print(price2.isnull().sum())"
   ]
  },
  {
   "cell_type": "code",
   "execution_count": 26,
   "id": "2fa5cf6c-27ba-488b-8a9f-a3de88085409",
   "metadata": {},
   "outputs": [
    {
     "data": {
      "text/plain": [
       "{'Covered', 'No Parking', 'Not Provided', 'Open'}"
      ]
     },
     "execution_count": 26,
     "metadata": {},
     "output_type": "execute_result"
    }
   ],
   "source": [
    "set(price2['Parking'])\n"
   ]
  },
  {
   "cell_type": "markdown",
   "id": "2ae47bb7-ff7f-42c0-972a-0e22fadcd78b",
   "metadata": {},
   "source": [
    "## Visualisasi Data Missing Value"
   ]
  },
  {
   "cell_type": "code",
   "execution_count": 27,
   "id": "8a842b22-0df0-4fe8-953c-1ab1267766dc",
   "metadata": {},
   "outputs": [
    {
     "data": {
      "image/png": "[encoded data removed]",
      "text/plain": [
       "<Figure size 640x480 with 1 Axes>"
      ]
     },
     "metadata": {},
     "output_type": "display_data"
    }
   ],
   "source": [
    "sns.heatmap(price2.isnull(), cbar=False)\n",
    "plt.title('Heatmap Missing Value')\n",
    "plt.show()"
   ]
  },
  {
   "cell_type": "code",
   "execution_count": 28,
   "id": "d2992d44-01da-4d41-961c-c8721057a358",
   "metadata": {},
   "outputs": [
    {
     "data": {
      "text/html": [
       "<div>\n",
       "<style scoped>\n",
       "    .dataframe tbody tr th:only-of-type {\n",
       "        vertical-align: middle;\n",
       "    }\n",
       "\n",
       "    .dataframe tbody tr th {\n",
       "        vertical-align: top;\n",
       "    }\n",
       "\n",
       "    .dataframe thead th {\n",
       "        text-align: right;\n",
       "    }\n",
       "</style>\n",
       "<table border=\"1\" class=\"dataframe\">\n",
       "  <thead>\n",
       "    <tr style=\"text-align: right;\">\n",
       "      <th></th>\n",
       "      <th>persentase missing</th>\n",
       "    </tr>\n",
       "  </thead>\n",
       "  <tbody>\n",
       "    <tr>\n",
       "      <th>Dist_Taxi</th>\n",
       "      <td>0.013963</td>\n",
       "    </tr>\n",
       "    <tr>\n",
       "      <th>Dist_Market</th>\n",
       "      <td>0.013963</td>\n",
       "    </tr>\n",
       "    <tr>\n",
       "      <th>Dist_Hospital</th>\n",
       "      <td>0.001074</td>\n",
       "    </tr>\n",
       "    <tr>\n",
       "      <th>Carpet</th>\n",
       "      <td>0.008593</td>\n",
       "    </tr>\n",
       "    <tr>\n",
       "      <th>Builtup</th>\n",
       "      <td>0.016112</td>\n",
       "    </tr>\n",
       "    <tr>\n",
       "      <th>Parking</th>\n",
       "      <td>0.000000</td>\n",
       "    </tr>\n",
       "    <tr>\n",
       "      <th>City_Category</th>\n",
       "      <td>0.000000</td>\n",
       "    </tr>\n",
       "    <tr>\n",
       "      <th>Rainfall</th>\n",
       "      <td>0.000000</td>\n",
       "    </tr>\n",
       "    <tr>\n",
       "      <th>House_Price</th>\n",
       "      <td>0.000000</td>\n",
       "    </tr>\n",
       "  </tbody>\n",
       "</table>\n",
       "</div>"
      ],
      "text/plain": [
       "               persentase missing\n",
       "Dist_Taxi                0.013963\n",
       "Dist_Market              0.013963\n",
       "Dist_Hospital            0.001074\n",
       "Carpet                   0.008593\n",
       "Builtup                  0.016112\n",
       "Parking                  0.000000\n",
       "City_Category            0.000000\n",
       "Rainfall                 0.000000\n",
       "House_Price              0.000000"
      ]
     },
     "execution_count": 28,
     "metadata": {},
     "output_type": "execute_result"
    }
   ],
   "source": [
    "(price2.isnull().sum()/len(price2)).to_frame('persentase missing')\n",
    "#menghitung persentase nilai yang hilang (missing values) dalam setiap kolom dari dataset price2."
   ]
  },
  {
   "cell_type": "code",
   "execution_count": 29,
   "id": "430c8654-1659-4045-94b6-337994f7b395",
   "metadata": {},
   "outputs": [],
   "source": [
    "# drop rows with missing values : Ada berbagai cara\n",
    "# X = price.dropna() # jika ada MV minimal satu di salah satu kolom, maka baris di hapus\n",
    "# price2.dropna(how='all') # jika ada MV di semua kolom, maka baris di hapus\n",
    "# price2.dropna(thresh=2) # jika ada MV minimal di salah 2 kolom, maka baris di hapus\n",
    "# price2.dropna(subset=['Dist_Hospital'])[:7] # jika ada MV minimal satu di salah kolom Dist_Hospital\n",
    "price2.dropna(inplace=True)"
   ]
  },
  {
   "cell_type": "code",
   "execution_count": 30,
   "id": "a3cf35f1-cffb-48cb-a9ed-9641a1328ec9",
   "metadata": {},
   "outputs": [
    {
     "name": "stdout",
     "output_type": "stream",
     "text": [
      "Dist_Taxi        0\n",
      "Dist_Market      0\n",
      "Dist_Hospital    0\n",
      "Carpet           0\n",
      "Builtup          0\n",
      "Parking          0\n",
      "City_Category    0\n",
      "Rainfall         0\n",
      "House_Price      0\n",
      "dtype: int64\n"
     ]
    }
   ],
   "source": [
    "print(price2.isnull().sum())\n"
   ]
  },
  {
   "cell_type": "markdown",
   "id": "c93af513-a4e6-463c-af2a-620889f4def6",
   "metadata": {},
   "source": [
    "## Statistika Deskriptif"
   ]
  },
  {
   "cell_type": "code",
   "execution_count": 31,
   "id": "e8f3d060-a116-4aa0-b215-5b3096d91108",
   "metadata": {},
   "outputs": [
    {
     "data": {
      "text/html": [
       "<div>\n",
       "<style scoped>\n",
       "    .dataframe tbody tr th:only-of-type {\n",
       "        vertical-align: middle;\n",
       "    }\n",
       "\n",
       "    .dataframe tbody tr th {\n",
       "        vertical-align: top;\n",
       "    }\n",
       "\n",
       "    .dataframe thead th {\n",
       "        text-align: right;\n",
       "    }\n",
       "</style>\n",
       "<table border=\"1\" class=\"dataframe\">\n",
       "  <thead>\n",
       "    <tr style=\"text-align: right;\">\n",
       "      <th></th>\n",
       "      <th>Dist_Taxi</th>\n",
       "      <th>Dist_Market</th>\n",
       "      <th>Dist_Hospital</th>\n",
       "      <th>Carpet</th>\n",
       "      <th>Builtup</th>\n",
       "      <th>Rainfall</th>\n",
       "      <th>House_Price</th>\n",
       "    </tr>\n",
       "  </thead>\n",
       "  <tbody>\n",
       "    <tr>\n",
       "      <th>count</th>\n",
       "      <td>897.000000</td>\n",
       "      <td>897.000000</td>\n",
       "      <td>897.000000</td>\n",
       "      <td>897.000000</td>\n",
       "      <td>897.000000</td>\n",
       "      <td>897.000000</td>\n",
       "      <td>8.970000e+02</td>\n",
       "    </tr>\n",
       "    <tr>\n",
       "      <th>mean</th>\n",
       "      <td>8234.092531</td>\n",
       "      <td>11014.810479</td>\n",
       "      <td>13086.516165</td>\n",
       "      <td>1485.586399</td>\n",
       "      <td>1782.282051</td>\n",
       "      <td>785.340022</td>\n",
       "      <td>5.932165e+06</td>\n",
       "    </tr>\n",
       "    <tr>\n",
       "      <th>std</th>\n",
       "      <td>2526.851636</td>\n",
       "      <td>2528.087365</td>\n",
       "      <td>2567.090681</td>\n",
       "      <td>250.153381</td>\n",
       "      <td>299.795462</td>\n",
       "      <td>266.956895</td>\n",
       "      <td>1.720409e+06</td>\n",
       "    </tr>\n",
       "    <tr>\n",
       "      <th>min</th>\n",
       "      <td>146.000000</td>\n",
       "      <td>1666.000000</td>\n",
       "      <td>3227.000000</td>\n",
       "      <td>775.000000</td>\n",
       "      <td>932.000000</td>\n",
       "      <td>-110.000000</td>\n",
       "      <td>1.492000e+06</td>\n",
       "    </tr>\n",
       "    <tr>\n",
       "      <th>25%</th>\n",
       "      <td>6486.000000</td>\n",
       "      <td>9367.000000</td>\n",
       "      <td>11302.000000</td>\n",
       "      <td>1317.000000</td>\n",
       "      <td>1576.000000</td>\n",
       "      <td>600.000000</td>\n",
       "      <td>4.638000e+06</td>\n",
       "    </tr>\n",
       "    <tr>\n",
       "      <th>50%</th>\n",
       "      <td>8230.000000</td>\n",
       "      <td>11161.000000</td>\n",
       "      <td>13192.000000</td>\n",
       "      <td>1477.000000</td>\n",
       "      <td>1774.000000</td>\n",
       "      <td>780.000000</td>\n",
       "      <td>5.860000e+06</td>\n",
       "    </tr>\n",
       "    <tr>\n",
       "      <th>75%</th>\n",
       "      <td>9963.000000</td>\n",
       "      <td>12675.000000</td>\n",
       "      <td>14860.000000</td>\n",
       "      <td>1653.000000</td>\n",
       "      <td>1985.000000</td>\n",
       "      <td>970.000000</td>\n",
       "      <td>7.183000e+06</td>\n",
       "    </tr>\n",
       "    <tr>\n",
       "      <th>max</th>\n",
       "      <td>16850.000000</td>\n",
       "      <td>18281.000000</td>\n",
       "      <td>22407.000000</td>\n",
       "      <td>2229.000000</td>\n",
       "      <td>2667.000000</td>\n",
       "      <td>1560.000000</td>\n",
       "      <td>1.163200e+07</td>\n",
       "    </tr>\n",
       "  </tbody>\n",
       "</table>\n",
       "</div>"
      ],
      "text/plain": [
       "          Dist_Taxi   Dist_Market  Dist_Hospital       Carpet      Builtup  \\\n",
       "count    897.000000    897.000000     897.000000   897.000000   897.000000   \n",
       "mean    8234.092531  11014.810479   13086.516165  1485.586399  1782.282051   \n",
       "std     2526.851636   2528.087365    2567.090681   250.153381   299.795462   \n",
       "min      146.000000   1666.000000    3227.000000   775.000000   932.000000   \n",
       "25%     6486.000000   9367.000000   11302.000000  1317.000000  1576.000000   \n",
       "50%     8230.000000  11161.000000   13192.000000  1477.000000  1774.000000   \n",
       "75%     9963.000000  12675.000000   14860.000000  1653.000000  1985.000000   \n",
       "max    16850.000000  18281.000000   22407.000000  2229.000000  2667.000000   \n",
       "\n",
       "          Rainfall   House_Price  \n",
       "count   897.000000  8.970000e+02  \n",
       "mean    785.340022  5.932165e+06  \n",
       "std     266.956895  1.720409e+06  \n",
       "min    -110.000000  1.492000e+06  \n",
       "25%     600.000000  4.638000e+06  \n",
       "50%     780.000000  5.860000e+06  \n",
       "75%     970.000000  7.183000e+06  \n",
       "max    1560.000000  1.163200e+07  "
      ]
     },
     "execution_count": 31,
     "metadata": {},
     "output_type": "execute_result"
    }
   ],
   "source": [
    "price2.describe()\n",
    "#mendapatkan ringkasan statistik dari kolom-kolom numerik dalam dataset"
   ]
  },
  {
   "cell_type": "code",
   "execution_count": 32,
   "id": "500e00d6-19f3-4d52-bd9f-96d1a2467b42",
   "metadata": {},
   "outputs": [
    {
     "data": {
      "text/html": [
       "<div>\n",
       "<style scoped>\n",
       "    .dataframe tbody tr th:only-of-type {\n",
       "        vertical-align: middle;\n",
       "    }\n",
       "\n",
       "    .dataframe tbody tr th {\n",
       "        vertical-align: top;\n",
       "    }\n",
       "\n",
       "    .dataframe thead th {\n",
       "        text-align: right;\n",
       "    }\n",
       "</style>\n",
       "<table border=\"1\" class=\"dataframe\">\n",
       "  <thead>\n",
       "    <tr style=\"text-align: right;\">\n",
       "      <th></th>\n",
       "      <th>Dist_Taxi</th>\n",
       "      <th>Dist_Market</th>\n",
       "      <th>Dist_Hospital</th>\n",
       "      <th>Carpet</th>\n",
       "      <th>Builtup</th>\n",
       "      <th>Parking</th>\n",
       "      <th>City_Category</th>\n",
       "      <th>Rainfall</th>\n",
       "      <th>House_Price</th>\n",
       "    </tr>\n",
       "  </thead>\n",
       "  <tbody>\n",
       "    <tr>\n",
       "      <th>count</th>\n",
       "      <td>897.000000</td>\n",
       "      <td>897.000000</td>\n",
       "      <td>897.000000</td>\n",
       "      <td>897.000000</td>\n",
       "      <td>897.000000</td>\n",
       "      <td>897</td>\n",
       "      <td>897</td>\n",
       "      <td>897.000000</td>\n",
       "      <td>8.970000e+02</td>\n",
       "    </tr>\n",
       "    <tr>\n",
       "      <th>unique</th>\n",
       "      <td>NaN</td>\n",
       "      <td>NaN</td>\n",
       "      <td>NaN</td>\n",
       "      <td>NaN</td>\n",
       "      <td>NaN</td>\n",
       "      <td>4</td>\n",
       "      <td>3</td>\n",
       "      <td>NaN</td>\n",
       "      <td>NaN</td>\n",
       "    </tr>\n",
       "    <tr>\n",
       "      <th>top</th>\n",
       "      <td>NaN</td>\n",
       "      <td>NaN</td>\n",
       "      <td>NaN</td>\n",
       "      <td>NaN</td>\n",
       "      <td>NaN</td>\n",
       "      <td>Open</td>\n",
       "      <td>CAT B</td>\n",
       "      <td>NaN</td>\n",
       "      <td>NaN</td>\n",
       "    </tr>\n",
       "    <tr>\n",
       "      <th>freq</th>\n",
       "      <td>NaN</td>\n",
       "      <td>NaN</td>\n",
       "      <td>NaN</td>\n",
       "      <td>NaN</td>\n",
       "      <td>NaN</td>\n",
       "      <td>353</td>\n",
       "      <td>347</td>\n",
       "      <td>NaN</td>\n",
       "      <td>NaN</td>\n",
       "    </tr>\n",
       "    <tr>\n",
       "      <th>mean</th>\n",
       "      <td>8234.092531</td>\n",
       "      <td>11014.810479</td>\n",
       "      <td>13086.516165</td>\n",
       "      <td>1485.586399</td>\n",
       "      <td>1782.282051</td>\n",
       "      <td>NaN</td>\n",
       "      <td>NaN</td>\n",
       "      <td>785.340022</td>\n",
       "      <td>5.932165e+06</td>\n",
       "    </tr>\n",
       "    <tr>\n",
       "      <th>std</th>\n",
       "      <td>2526.851636</td>\n",
       "      <td>2528.087365</td>\n",
       "      <td>2567.090681</td>\n",
       "      <td>250.153381</td>\n",
       "      <td>299.795462</td>\n",
       "      <td>NaN</td>\n",
       "      <td>NaN</td>\n",
       "      <td>266.956895</td>\n",
       "      <td>1.720409e+06</td>\n",
       "    </tr>\n",
       "    <tr>\n",
       "      <th>min</th>\n",
       "      <td>146.000000</td>\n",
       "      <td>1666.000000</td>\n",
       "      <td>3227.000000</td>\n",
       "      <td>775.000000</td>\n",
       "      <td>932.000000</td>\n",
       "      <td>NaN</td>\n",
       "      <td>NaN</td>\n",
       "      <td>-110.000000</td>\n",
       "      <td>1.492000e+06</td>\n",
       "    </tr>\n",
       "    <tr>\n",
       "      <th>25%</th>\n",
       "      <td>6486.000000</td>\n",
       "      <td>9367.000000</td>\n",
       "      <td>11302.000000</td>\n",
       "      <td>1317.000000</td>\n",
       "      <td>1576.000000</td>\n",
       "      <td>NaN</td>\n",
       "      <td>NaN</td>\n",
       "      <td>600.000000</td>\n",
       "      <td>4.638000e+06</td>\n",
       "    </tr>\n",
       "    <tr>\n",
       "      <th>50%</th>\n",
       "      <td>8230.000000</td>\n",
       "      <td>11161.000000</td>\n",
       "      <td>13192.000000</td>\n",
       "      <td>1477.000000</td>\n",
       "      <td>1774.000000</td>\n",
       "      <td>NaN</td>\n",
       "      <td>NaN</td>\n",
       "      <td>780.000000</td>\n",
       "      <td>5.860000e+06</td>\n",
       "    </tr>\n",
       "    <tr>\n",
       "      <th>75%</th>\n",
       "      <td>9963.000000</td>\n",
       "      <td>12675.000000</td>\n",
       "      <td>14860.000000</td>\n",
       "      <td>1653.000000</td>\n",
       "      <td>1985.000000</td>\n",
       "      <td>NaN</td>\n",
       "      <td>NaN</td>\n",
       "      <td>970.000000</td>\n",
       "      <td>7.183000e+06</td>\n",
       "    </tr>\n",
       "    <tr>\n",
       "      <th>max</th>\n",
       "      <td>16850.000000</td>\n",
       "      <td>18281.000000</td>\n",
       "      <td>22407.000000</td>\n",
       "      <td>2229.000000</td>\n",
       "      <td>2667.000000</td>\n",
       "      <td>NaN</td>\n",
       "      <td>NaN</td>\n",
       "      <td>1560.000000</td>\n",
       "      <td>1.163200e+07</td>\n",
       "    </tr>\n",
       "  </tbody>\n",
       "</table>\n",
       "</div>"
      ],
      "text/plain": [
       "           Dist_Taxi   Dist_Market  Dist_Hospital       Carpet      Builtup  \\\n",
       "count     897.000000    897.000000     897.000000   897.000000   897.000000   \n",
       "unique           NaN           NaN            NaN          NaN          NaN   \n",
       "top              NaN           NaN            NaN          NaN          NaN   \n",
       "freq             NaN           NaN            NaN          NaN          NaN   \n",
       "mean     8234.092531  11014.810479   13086.516165  1485.586399  1782.282051   \n",
       "std      2526.851636   2528.087365    2567.090681   250.153381   299.795462   \n",
       "min       146.000000   1666.000000    3227.000000   775.000000   932.000000   \n",
       "25%      6486.000000   9367.000000   11302.000000  1317.000000  1576.000000   \n",
       "50%      8230.000000  11161.000000   13192.000000  1477.000000  1774.000000   \n",
       "75%      9963.000000  12675.000000   14860.000000  1653.000000  1985.000000   \n",
       "max     16850.000000  18281.000000   22407.000000  2229.000000  2667.000000   \n",
       "\n",
       "       Parking City_Category     Rainfall   House_Price  \n",
       "count      897           897   897.000000  8.970000e+02  \n",
       "unique       4             3          NaN           NaN  \n",
       "top       Open         CAT B          NaN           NaN  \n",
       "freq       353           347          NaN           NaN  \n",
       "mean       NaN           NaN   785.340022  5.932165e+06  \n",
       "std        NaN           NaN   266.956895  1.720409e+06  \n",
       "min        NaN           NaN  -110.000000  1.492000e+06  \n",
       "25%        NaN           NaN   600.000000  4.638000e+06  \n",
       "50%        NaN           NaN   780.000000  5.860000e+06  \n",
       "75%        NaN           NaN   970.000000  7.183000e+06  \n",
       "max        NaN           NaN  1560.000000  1.163200e+07  "
      ]
     },
     "execution_count": 32,
     "metadata": {},
     "output_type": "execute_result"
    }
   ],
   "source": [
    "# Statistika Sederhana dari data \"Numerik\"-nya\n",
    "price2.describe(include='all')"
   ]
  },
  {
   "cell_type": "code",
   "execution_count": 33,
   "id": "c97228f6-e260-4f10-8ba1-12ce7d5d543d",
   "metadata": {},
   "outputs": [
    {
     "data": {
      "text/html": [
       "<div>\n",
       "<style scoped>\n",
       "    .dataframe tbody tr th:only-of-type {\n",
       "        vertical-align: middle;\n",
       "    }\n",
       "\n",
       "    .dataframe tbody tr th {\n",
       "        vertical-align: top;\n",
       "    }\n",
       "\n",
       "    .dataframe thead th {\n",
       "        text-align: right;\n",
       "    }\n",
       "</style>\n",
       "<table border=\"1\" class=\"dataframe\">\n",
       "  <thead>\n",
       "    <tr style=\"text-align: right;\">\n",
       "      <th></th>\n",
       "      <th>Dist_Taxi</th>\n",
       "      <th>Parking</th>\n",
       "    </tr>\n",
       "  </thead>\n",
       "  <tbody>\n",
       "    <tr>\n",
       "      <th>count</th>\n",
       "      <td>919.000000</td>\n",
       "      <td>932</td>\n",
       "    </tr>\n",
       "    <tr>\n",
       "      <th>unique</th>\n",
       "      <td>NaN</td>\n",
       "      <td>4</td>\n",
       "    </tr>\n",
       "    <tr>\n",
       "      <th>top</th>\n",
       "      <td>NaN</td>\n",
       "      <td>Open</td>\n",
       "    </tr>\n",
       "    <tr>\n",
       "      <th>freq</th>\n",
       "      <td>NaN</td>\n",
       "      <td>372</td>\n",
       "    </tr>\n",
       "    <tr>\n",
       "      <th>mean</th>\n",
       "      <td>8229.727965</td>\n",
       "      <td>NaN</td>\n",
       "    </tr>\n",
       "    <tr>\n",
       "      <th>std</th>\n",
       "      <td>2561.985008</td>\n",
       "      <td>NaN</td>\n",
       "    </tr>\n",
       "    <tr>\n",
       "      <th>min</th>\n",
       "      <td>146.000000</td>\n",
       "      <td>NaN</td>\n",
       "    </tr>\n",
       "    <tr>\n",
       "      <th>25%</th>\n",
       "      <td>6476.000000</td>\n",
       "      <td>NaN</td>\n",
       "    </tr>\n",
       "    <tr>\n",
       "      <th>50%</th>\n",
       "      <td>8230.000000</td>\n",
       "      <td>NaN</td>\n",
       "    </tr>\n",
       "    <tr>\n",
       "      <th>75%</th>\n",
       "      <td>9937.000000</td>\n",
       "      <td>NaN</td>\n",
       "    </tr>\n",
       "    <tr>\n",
       "      <th>max</th>\n",
       "      <td>20662.000000</td>\n",
       "      <td>NaN</td>\n",
       "    </tr>\n",
       "  </tbody>\n",
       "</table>\n",
       "</div>"
      ],
      "text/plain": [
       "           Dist_Taxi Parking\n",
       "count     919.000000     932\n",
       "unique           NaN       4\n",
       "top              NaN    Open\n",
       "freq             NaN     372\n",
       "mean     8229.727965     NaN\n",
       "std      2561.985008     NaN\n",
       "min       146.000000     NaN\n",
       "25%      6476.000000     NaN\n",
       "50%      8230.000000     NaN\n",
       "75%      9937.000000     NaN\n",
       "max     20662.000000     NaN"
      ]
     },
     "execution_count": 33,
     "metadata": {},
     "output_type": "execute_result"
    }
   ],
   "source": [
    "# ini adalah parameter tambahan jika kita juga ingin mendapatkan statistik sederhana seluruh datanya\n",
    "# (termasuk data kategorik)\n",
    "price[['Dist_Taxi','Parking']].describe(include='all')"
   ]
  },
  {
   "cell_type": "markdown",
   "id": "127013e4-9c79-4239-b7ae-39e939e1173c",
   "metadata": {},
   "source": [
    "## Distribusi nilai pada setiap variabel/kolom kategorik"
   ]
  },
  {
   "cell_type": "code",
   "execution_count": 34,
   "id": "9f81a0f7-0fdc-446e-869e-6012075814d9",
   "metadata": {},
   "outputs": [
    {
     "name": "stdout",
     "output_type": "stream",
     "text": [
      "Parking :  {'Not Provided', 'Open', 'Covered', 'No Parking'}\n",
      "City_Category :  {'CAT A', 'CAT C', 'CAT B'}\n"
     ]
    }
   ],
   "source": [
    "# get all unique values of a variable/column\n",
    "for col in price_cat.columns:\n",
    "    print(col,': ', set(price[col].unique()))"
   ]
  },
  {
   "cell_type": "code",
   "execution_count": 35,
   "id": "3cfd9efa-d1a9-409d-9321-45c0e21b44af",
   "metadata": {},
   "outputs": [
    {
     "data": {
      "text/plain": [
       "['Open', 'Not Provided', 'Covered', 'No Parking']\n",
       "Categories (4, object): ['Covered', 'No Parking', 'Not Provided', 'Open']"
      ]
     },
     "execution_count": 35,
     "metadata": {},
     "output_type": "execute_result"
    }
   ],
   "source": [
    "price['Parking'].unique()\n"
   ]
  },
  {
   "cell_type": "code",
   "execution_count": 36,
   "id": "f7135760-ff92-441a-bede-a13b83fb8c37",
   "metadata": {},
   "outputs": [
    {
     "data": {
      "text/plain": [
       "['Dist_Taxi',\n",
       " 'Dist_Market',\n",
       " 'Dist_Hospital',\n",
       " 'Carpet',\n",
       " 'Builtup',\n",
       " 'Rainfall',\n",
       " 'House_Price']"
      ]
     },
     "execution_count": 36,
     "metadata": {},
     "output_type": "execute_result"
    }
   ],
   "source": [
    "# Jika yang dibutuhkan memang hanya nama kolom, maka kita bisa melakukan hal ini untuk menghemat penggunaan memory\n",
    "numVar = price.select_dtypes(include = ['float64', 'int64']).columns\n",
    "list(numVar)"
   ]
  },
  {
   "cell_type": "code",
   "execution_count": 37,
   "id": "94100da6-f8a6-40ba-816d-b347deed4391",
   "metadata": {},
   "outputs": [
    {
     "data": {
      "text/plain": [
       "Parking\n",
       "Open            372\n",
       "Not Provided    227\n",
       "Covered         188\n",
       "No Parking      145\n",
       "Name: count, dtype: int64"
      ]
     },
     "execution_count": 37,
     "metadata": {},
     "output_type": "execute_result"
    }
   ],
   "source": [
    "# Distribusi tiap data\n",
    "price['Parking'].value_counts()"
   ]
  },
  {
   "cell_type": "markdown",
   "id": "a6fd53d9-e5c7-4757-9ad2-4550a098ea1b",
   "metadata": {},
   "source": [
    "## Contingency Tables"
   ]
  },
  {
   "cell_type": "code",
   "execution_count": 38,
   "id": "7ed050ee-48c5-4760-b235-c0b05480e6e0",
   "metadata": {},
   "outputs": [
    {
     "data": {
      "text/html": [
       "<div>\n",
       "<style scoped>\n",
       "    .dataframe tbody tr th:only-of-type {\n",
       "        vertical-align: middle;\n",
       "    }\n",
       "\n",
       "    .dataframe tbody tr th {\n",
       "        vertical-align: top;\n",
       "    }\n",
       "\n",
       "    .dataframe thead th {\n",
       "        text-align: right;\n",
       "    }\n",
       "</style>\n",
       "<table border=\"1\" class=\"dataframe\">\n",
       "  <thead>\n",
       "    <tr style=\"text-align: right;\">\n",
       "      <th>Parking</th>\n",
       "      <th>Covered</th>\n",
       "      <th>No Parking</th>\n",
       "      <th>Not Provided</th>\n",
       "      <th>Open</th>\n",
       "    </tr>\n",
       "    <tr>\n",
       "      <th>City_Category</th>\n",
       "      <th></th>\n",
       "      <th></th>\n",
       "      <th></th>\n",
       "      <th></th>\n",
       "    </tr>\n",
       "  </thead>\n",
       "  <tbody>\n",
       "    <tr>\n",
       "      <th>CAT A</th>\n",
       "      <td>72</td>\n",
       "      <td>50</td>\n",
       "      <td>80</td>\n",
       "      <td>115</td>\n",
       "    </tr>\n",
       "    <tr>\n",
       "      <th>CAT B</th>\n",
       "      <td>59</td>\n",
       "      <td>51</td>\n",
       "      <td>88</td>\n",
       "      <td>149</td>\n",
       "    </tr>\n",
       "    <tr>\n",
       "      <th>CAT C</th>\n",
       "      <td>49</td>\n",
       "      <td>40</td>\n",
       "      <td>55</td>\n",
       "      <td>89</td>\n",
       "    </tr>\n",
       "  </tbody>\n",
       "</table>\n",
       "</div>"
      ],
      "text/plain": [
       "Parking        Covered  No Parking  Not Provided  Open\n",
       "City_Category                                         \n",
       "CAT A               72          50            80   115\n",
       "CAT B               59          51            88   149\n",
       "CAT C               49          40            55    89"
      ]
     },
     "execution_count": 38,
     "metadata": {},
     "output_type": "execute_result"
    }
   ],
   "source": [
    "CT = pd.crosstab(index=price2[\"City_Category\"], columns=price2[\"Parking\"])\n",
    "CT"
   ]
  },
  {
   "cell_type": "markdown",
   "id": "72ac2360-8c6a-44f7-9705-6a6cee9c548c",
   "metadata": {},
   "source": [
    "## Data Grouping"
   ]
  },
  {
   "cell_type": "code",
   "execution_count": 39,
   "id": "122e2666-8b94-43dd-a346-0059ccac20ac",
   "metadata": {},
   "outputs": [
    {
     "data": {
      "text/html": [
       "<div>\n",
       "<style scoped>\n",
       "    .dataframe tbody tr th:only-of-type {\n",
       "        vertical-align: middle;\n",
       "    }\n",
       "\n",
       "    .dataframe tbody tr th {\n",
       "        vertical-align: top;\n",
       "    }\n",
       "\n",
       "    .dataframe thead th {\n",
       "        text-align: right;\n",
       "    }\n",
       "</style>\n",
       "<table border=\"1\" class=\"dataframe\">\n",
       "  <thead>\n",
       "    <tr style=\"text-align: right;\">\n",
       "      <th></th>\n",
       "      <th>Dist_Taxi</th>\n",
       "      <th>Dist_Market</th>\n",
       "      <th>Dist_Hospital</th>\n",
       "      <th>Carpet</th>\n",
       "      <th>Builtup</th>\n",
       "      <th>Rainfall</th>\n",
       "      <th>House_Price</th>\n",
       "    </tr>\n",
       "  </thead>\n",
       "  <tbody>\n",
       "    <tr>\n",
       "      <th>count</th>\n",
       "      <td>347.000000</td>\n",
       "      <td>347.000000</td>\n",
       "      <td>347.000000</td>\n",
       "      <td>347.000000</td>\n",
       "      <td>347.000000</td>\n",
       "      <td>347.000000</td>\n",
       "      <td>3.470000e+02</td>\n",
       "    </tr>\n",
       "    <tr>\n",
       "      <th>mean</th>\n",
       "      <td>8079.703170</td>\n",
       "      <td>10693.945245</td>\n",
       "      <td>12855.314121</td>\n",
       "      <td>1500.380403</td>\n",
       "      <td>1799.806916</td>\n",
       "      <td>780.259366</td>\n",
       "      <td>5.520006e+06</td>\n",
       "    </tr>\n",
       "    <tr>\n",
       "      <th>std</th>\n",
       "      <td>2475.693863</td>\n",
       "      <td>2534.441833</td>\n",
       "      <td>2588.293527</td>\n",
       "      <td>252.359775</td>\n",
       "      <td>301.620757</td>\n",
       "      <td>260.422493</td>\n",
       "      <td>1.324843e+06</td>\n",
       "    </tr>\n",
       "    <tr>\n",
       "      <th>min</th>\n",
       "      <td>604.000000</td>\n",
       "      <td>4950.000000</td>\n",
       "      <td>4922.000000</td>\n",
       "      <td>869.000000</td>\n",
       "      <td>1050.000000</td>\n",
       "      <td>0.000000</td>\n",
       "      <td>2.130000e+06</td>\n",
       "    </tr>\n",
       "    <tr>\n",
       "      <th>25%</th>\n",
       "      <td>6400.500000</td>\n",
       "      <td>8891.000000</td>\n",
       "      <td>11088.500000</td>\n",
       "      <td>1317.000000</td>\n",
       "      <td>1577.500000</td>\n",
       "      <td>590.000000</td>\n",
       "      <td>4.613500e+06</td>\n",
       "    </tr>\n",
       "    <tr>\n",
       "      <th>50%</th>\n",
       "      <td>7998.000000</td>\n",
       "      <td>10711.000000</td>\n",
       "      <td>12950.000000</td>\n",
       "      <td>1487.000000</td>\n",
       "      <td>1787.000000</td>\n",
       "      <td>770.000000</td>\n",
       "      <td>5.438000e+06</td>\n",
       "    </tr>\n",
       "    <tr>\n",
       "      <th>75%</th>\n",
       "      <td>9794.000000</td>\n",
       "      <td>12535.000000</td>\n",
       "      <td>14685.000000</td>\n",
       "      <td>1688.000000</td>\n",
       "      <td>2023.500000</td>\n",
       "      <td>950.000000</td>\n",
       "      <td>6.369000e+06</td>\n",
       "    </tr>\n",
       "    <tr>\n",
       "      <th>max</th>\n",
       "      <td>15082.000000</td>\n",
       "      <td>17101.000000</td>\n",
       "      <td>19617.000000</td>\n",
       "      <td>2214.000000</td>\n",
       "      <td>2647.000000</td>\n",
       "      <td>1560.000000</td>\n",
       "      <td>9.661000e+06</td>\n",
       "    </tr>\n",
       "  </tbody>\n",
       "</table>\n",
       "</div>"
      ],
      "text/plain": [
       "          Dist_Taxi   Dist_Market  Dist_Hospital       Carpet      Builtup  \\\n",
       "count    347.000000    347.000000     347.000000   347.000000   347.000000   \n",
       "mean    8079.703170  10693.945245   12855.314121  1500.380403  1799.806916   \n",
       "std     2475.693863   2534.441833    2588.293527   252.359775   301.620757   \n",
       "min      604.000000   4950.000000    4922.000000   869.000000  1050.000000   \n",
       "25%     6400.500000   8891.000000   11088.500000  1317.000000  1577.500000   \n",
       "50%     7998.000000  10711.000000   12950.000000  1487.000000  1787.000000   \n",
       "75%     9794.000000  12535.000000   14685.000000  1688.000000  2023.500000   \n",
       "max    15082.000000  17101.000000   19617.000000  2214.000000  2647.000000   \n",
       "\n",
       "          Rainfall   House_Price  \n",
       "count   347.000000  3.470000e+02  \n",
       "mean    780.259366  5.520006e+06  \n",
       "std     260.422493  1.324843e+06  \n",
       "min       0.000000  2.130000e+06  \n",
       "25%     590.000000  4.613500e+06  \n",
       "50%     770.000000  5.438000e+06  \n",
       "75%     950.000000  6.369000e+06  \n",
       "max    1560.000000  9.661000e+06  "
      ]
     },
     "execution_count": 39,
     "metadata": {},
     "output_type": "execute_result"
    }
   ],
   "source": [
    "price2[price2[\"City_Category\"] == \"CAT B\"].describe()\n",
    "# Bisa ditambahkan .drop(\"Parking\", axis=1) untuk menghilangkan kolom dengan single value"
   ]
  },
  {
   "cell_type": "markdown",
   "id": "9a011d81-918d-4b9a-9a90-66a80094a907",
   "metadata": {},
   "source": [
    "## Saving (preprocessed) Data"
   ]
  },
  {
   "cell_type": "code",
   "execution_count": null,
   "id": "19a4515a-15de-449e-8618-0c3a79b01878",
   "metadata": {},
   "outputs": [],
   "source": [
    "price2.to_csv(\"data/price_PreProcessed.csv\", encoding='utf8')\n"
   ]
  }
 ],
 "metadata": {
  "kernelspec": {
   "display_name": "Python 3 (ipykernel)",
   "language": "python",
   "name": "python3"
  },
  "language_info": {
   "codemirror_mode": {
    "name": "ipython",
    "version": 3
   },
   "file_extension": ".py",
   "mimetype": "text/x-python",
   "name": "python",
   "nbconvert_exporter": "python",
   "pygments_lexer": "ipython3",
   "version": "3.12.0"
  }
 },
 "nbformat": 4,
 "nbformat_minor": 5
}
